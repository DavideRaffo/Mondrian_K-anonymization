{
 "cells": [
  {
   "cell_type": "code",
   "execution_count": 1,
   "metadata": {
    "id": "E_UVDOInsxyd"
   },
   "outputs": [],
   "source": [
    "# import libraries\n",
    "import numpy as np\n",
    "import math\n",
    "import pandas as pd\n",
    "from matplotlib import pyplot as plt\n",
    "from tqdm import tqdm\n",
    "import time"
   ]
  },
  {
   "cell_type": "code",
   "execution_count": 2,
   "metadata": {
    "colab": {
     "base_uri": "https://localhost:8080/"
    },
    "id": "wRCd_6Jvsxyg",
    "outputId": "26a61335-b81c-4352-9b35-3ed7d5be07bc"
   },
   "outputs": [
    {
     "data": {
      "text/plain": [
       "48842"
      ]
     },
     "execution_count": 2,
     "metadata": {},
     "output_type": "execute_result"
    }
   ],
   "source": [
    "# load the dataset and apply column names\n",
    "col_names = ['age','workclass','fnlwgt','education','education-num','marital-status','occupation','relationship',\n",
    "         'race','gender','capital-gain','capital-loss','hours-per-week','native-country','income']\n",
    "categorical = ['workclass','education','marital-status','occupation','relationship','gender','native-country','race','income']\n",
    "to_keep = ['age','workclass','education','marital-status','occupation','race','gender','native-country','income'] # columns used in the paper\n",
    "categorical_to_keep = [x for x in categorical if x in to_keep]\n",
    "df = pd.read_csv(\"adult.all.txt\", sep=\",\", header=None, names=col_names, index_col=False, engine='python')\n",
    "len(df)"
   ]
  },
  {
   "cell_type": "code",
   "execution_count": 3,
   "metadata": {
    "colab": {
     "base_uri": "https://localhost:8080/"
    },
    "id": "nUEBV3DMOxYd",
    "outputId": "21587ad1-2004-4866-c420-c5288652a493"
   },
   "outputs": [
    {
     "data": {
      "text/plain": [
       "{0: 'age',\n",
       " 1: 'workclass',\n",
       " 2: 'education',\n",
       " 3: 'marital-status',\n",
       " 4: 'occupation',\n",
       " 5: 'race',\n",
       " 6: 'gender',\n",
       " 7: 'native-country',\n",
       " 8: 'income'}"
      ]
     },
     "execution_count": 3,
     "metadata": {},
     "output_type": "execute_result"
    }
   ],
   "source": [
    "# put column names in a dict for span computing using indices\n",
    "zip_iterator = zip([x for x in range(9)], to_keep)\n",
    "col_dict = dict(zip_iterator)\n",
    "col_dict"
   ]
  },
  {
   "cell_type": "code",
   "execution_count": 4,
   "metadata": {
    "id": "jxfU417QR-T3"
   },
   "outputs": [],
   "source": [
    "cat_dict = {k: v for k, v in col_dict.items() if v in categorical_to_keep}\n",
    "cat_indices = [k for k, v in cat_dict.items()]"
   ]
  },
  {
   "cell_type": "code",
   "execution_count": 5,
   "metadata": {
    "colab": {
     "base_uri": "https://localhost:8080/",
     "height": 424
    },
    "id": "V_AhgJmfsxyk",
    "outputId": "9aa3897f-d00d-494c-e8a1-b906843f5b10"
   },
   "outputs": [
    {
     "data": {
      "text/html": [
       "<div>\n",
       "<style scoped>\n",
       "    .dataframe tbody tr th:only-of-type {\n",
       "        vertical-align: middle;\n",
       "    }\n",
       "\n",
       "    .dataframe tbody tr th {\n",
       "        vertical-align: top;\n",
       "    }\n",
       "\n",
       "    .dataframe thead th {\n",
       "        text-align: right;\n",
       "    }\n",
       "</style>\n",
       "<table border=\"1\" class=\"dataframe\">\n",
       "  <thead>\n",
       "    <tr style=\"text-align: right;\">\n",
       "      <th></th>\n",
       "      <th>age</th>\n",
       "      <th>workclass</th>\n",
       "      <th>education</th>\n",
       "      <th>marital-status</th>\n",
       "      <th>occupation</th>\n",
       "      <th>race</th>\n",
       "      <th>gender</th>\n",
       "      <th>native-country</th>\n",
       "      <th>income</th>\n",
       "    </tr>\n",
       "  </thead>\n",
       "  <tbody>\n",
       "    <tr>\n",
       "      <th>0</th>\n",
       "      <td>39</td>\n",
       "      <td>State-gov</td>\n",
       "      <td>Bachelors</td>\n",
       "      <td>Never-married</td>\n",
       "      <td>Adm-clerical</td>\n",
       "      <td>White</td>\n",
       "      <td>Male</td>\n",
       "      <td>United-States</td>\n",
       "      <td>&lt;=50k</td>\n",
       "    </tr>\n",
       "    <tr>\n",
       "      <th>1</th>\n",
       "      <td>50</td>\n",
       "      <td>Self-emp-not-inc</td>\n",
       "      <td>Bachelors</td>\n",
       "      <td>Married-civ-spouse</td>\n",
       "      <td>Exec-managerial</td>\n",
       "      <td>White</td>\n",
       "      <td>Male</td>\n",
       "      <td>United-States</td>\n",
       "      <td>&lt;=50k</td>\n",
       "    </tr>\n",
       "    <tr>\n",
       "      <th>2</th>\n",
       "      <td>38</td>\n",
       "      <td>Private</td>\n",
       "      <td>HS-grad</td>\n",
       "      <td>Divorced</td>\n",
       "      <td>Handlers-cleaners</td>\n",
       "      <td>White</td>\n",
       "      <td>Male</td>\n",
       "      <td>United-States</td>\n",
       "      <td>&lt;=50k</td>\n",
       "    </tr>\n",
       "    <tr>\n",
       "      <th>3</th>\n",
       "      <td>53</td>\n",
       "      <td>Private</td>\n",
       "      <td>11th</td>\n",
       "      <td>Married-civ-spouse</td>\n",
       "      <td>Handlers-cleaners</td>\n",
       "      <td>Black</td>\n",
       "      <td>Male</td>\n",
       "      <td>United-States</td>\n",
       "      <td>&lt;=50k</td>\n",
       "    </tr>\n",
       "    <tr>\n",
       "      <th>4</th>\n",
       "      <td>28</td>\n",
       "      <td>Private</td>\n",
       "      <td>Bachelors</td>\n",
       "      <td>Married-civ-spouse</td>\n",
       "      <td>Prof-specialty</td>\n",
       "      <td>Black</td>\n",
       "      <td>Female</td>\n",
       "      <td>Cuba</td>\n",
       "      <td>&lt;=50k</td>\n",
       "    </tr>\n",
       "    <tr>\n",
       "      <th>...</th>\n",
       "      <td>...</td>\n",
       "      <td>...</td>\n",
       "      <td>...</td>\n",
       "      <td>...</td>\n",
       "      <td>...</td>\n",
       "      <td>...</td>\n",
       "      <td>...</td>\n",
       "      <td>...</td>\n",
       "      <td>...</td>\n",
       "    </tr>\n",
       "    <tr>\n",
       "      <th>48837</th>\n",
       "      <td>39</td>\n",
       "      <td>Private</td>\n",
       "      <td>Bachelors</td>\n",
       "      <td>Divorced</td>\n",
       "      <td>Prof-specialty</td>\n",
       "      <td>White</td>\n",
       "      <td>Female</td>\n",
       "      <td>United-States</td>\n",
       "      <td>&lt;=50k</td>\n",
       "    </tr>\n",
       "    <tr>\n",
       "      <th>48838</th>\n",
       "      <td>64</td>\n",
       "      <td>-1</td>\n",
       "      <td>HS-grad</td>\n",
       "      <td>Widowed</td>\n",
       "      <td>-1</td>\n",
       "      <td>Black</td>\n",
       "      <td>Male</td>\n",
       "      <td>United-States</td>\n",
       "      <td>&lt;=50k</td>\n",
       "    </tr>\n",
       "    <tr>\n",
       "      <th>48839</th>\n",
       "      <td>38</td>\n",
       "      <td>Private</td>\n",
       "      <td>Bachelors</td>\n",
       "      <td>Married-civ-spouse</td>\n",
       "      <td>Prof-specialty</td>\n",
       "      <td>White</td>\n",
       "      <td>Male</td>\n",
       "      <td>United-States</td>\n",
       "      <td>&lt;=50k</td>\n",
       "    </tr>\n",
       "    <tr>\n",
       "      <th>48840</th>\n",
       "      <td>44</td>\n",
       "      <td>Private</td>\n",
       "      <td>Bachelors</td>\n",
       "      <td>Divorced</td>\n",
       "      <td>Adm-clerical</td>\n",
       "      <td>Asian-Pac-Islander</td>\n",
       "      <td>Male</td>\n",
       "      <td>United-States</td>\n",
       "      <td>&lt;=50k</td>\n",
       "    </tr>\n",
       "    <tr>\n",
       "      <th>48841</th>\n",
       "      <td>35</td>\n",
       "      <td>Self-emp-inc</td>\n",
       "      <td>Bachelors</td>\n",
       "      <td>Married-civ-spouse</td>\n",
       "      <td>Exec-managerial</td>\n",
       "      <td>White</td>\n",
       "      <td>Male</td>\n",
       "      <td>United-States</td>\n",
       "      <td>&gt;50k</td>\n",
       "    </tr>\n",
       "  </tbody>\n",
       "</table>\n",
       "<p>48842 rows × 9 columns</p>\n",
       "</div>"
      ],
      "text/plain": [
       "       age          workclass   education       marital-status  \\\n",
       "0       39          State-gov   Bachelors        Never-married   \n",
       "1       50   Self-emp-not-inc   Bachelors   Married-civ-spouse   \n",
       "2       38            Private     HS-grad             Divorced   \n",
       "3       53            Private        11th   Married-civ-spouse   \n",
       "4       28            Private   Bachelors   Married-civ-spouse   \n",
       "...    ...                ...         ...                  ...   \n",
       "48837   39            Private   Bachelors             Divorced   \n",
       "48838   64                 -1     HS-grad              Widowed   \n",
       "48839   38            Private   Bachelors   Married-civ-spouse   \n",
       "48840   44            Private   Bachelors             Divorced   \n",
       "48841   35       Self-emp-inc   Bachelors   Married-civ-spouse   \n",
       "\n",
       "               occupation                 race   gender  native-country  \\\n",
       "0            Adm-clerical                White     Male   United-States   \n",
       "1         Exec-managerial                White     Male   United-States   \n",
       "2       Handlers-cleaners                White     Male   United-States   \n",
       "3       Handlers-cleaners                Black     Male   United-States   \n",
       "4          Prof-specialty                Black   Female            Cuba   \n",
       "...                   ...                  ...      ...             ...   \n",
       "48837      Prof-specialty                White   Female   United-States   \n",
       "48838                  -1                Black     Male   United-States   \n",
       "48839      Prof-specialty                White     Male   United-States   \n",
       "48840        Adm-clerical   Asian-Pac-Islander     Male   United-States   \n",
       "48841     Exec-managerial                White     Male   United-States   \n",
       "\n",
       "       income  \n",
       "0       <=50k  \n",
       "1       <=50k  \n",
       "2       <=50k  \n",
       "3       <=50k  \n",
       "4       <=50k  \n",
       "...       ...  \n",
       "48837   <=50k  \n",
       "48838   <=50k  \n",
       "48839   <=50k  \n",
       "48840   <=50k  \n",
       "48841    >50k  \n",
       "\n",
       "[48842 rows x 9 columns]"
      ]
     },
     "execution_count": 5,
     "metadata": {},
     "output_type": "execute_result"
    }
   ],
   "source": [
    "# remove NaNs\n",
    "df = df.loc[:,to_keep]\n",
    "df = df[df!='-1'] # -1 is nan\n",
    "df.dropna(inplace=True)\n",
    "df.reset_index(inplace=True)\n",
    "df = df.iloc[:,1:]\n",
    "df"
   ]
  },
  {
   "cell_type": "code",
   "execution_count": 6,
   "metadata": {
    "id": "1TtFG94FPWfr"
   },
   "outputs": [],
   "source": [
    "# convert df to numpy array\n",
    "m = df.groupby(df.columns.tolist(),as_index=False).size()['size'].max()\n",
    "df = np.array(df)"
   ]
  },
  {
   "cell_type": "code",
   "execution_count": 7,
   "metadata": {
    "id": "pgdOtGgcsxym"
   },
   "outputs": [],
   "source": [
    "# function to compute the span of a given column while restricted to a subset of rows (a data partition)\n",
    "def colSpans(df, dimensions, cat_dict, partition):\n",
    "  categorical = [k for k, v in cat_dict.items() if k in dimensions] # indices of categorical columns\n",
    "  spans = dict()\n",
    "  for column in dimensions:\n",
    "    dfp = df[partition,column] # restrict df to the current column\n",
    "    if column in categorical:\n",
    "      span = len(np.unique(dfp)) # span of categorical variables is its number of unique classes\n",
    "    else:\n",
    "      span = np.max(dfp)-np.min(dfp) # span of numerical variables is its range\n",
    "    spans[column] = span\n",
    "  return spans"
   ]
  },
  {
   "cell_type": "code",
   "execution_count": 8,
   "metadata": {
    "id": "JmZuZn0rMWHj"
   },
   "outputs": [],
   "source": [
    "# function to split rows of a partition based on median value (categorical vs. numerical attributes)\n",
    "def splitVal(df, dim, partition, cat_dict, mode):\n",
    "  dfp = df[partition,dim] # restrict whole dataset to a single attribute and rows in this partition\n",
    "  unique = list(np.unique(dfp))\n",
    "  length = len(unique)\n",
    "  categorical = [k for k, v in cat_dict.items()] # indices of categorical columns\n",
    "  if dim in categorical: # for categorical variables\n",
    "    #print('categorical')\n",
    "    if mode=='strict': # i do not mind about |lhs| and |rhs| being equal\n",
    "      lhv = unique[:length//2]\n",
    "      rhv = unique[length//2:]\n",
    "      lhs = list(list(np.where(np.isin(dfp,lhv)))[0]) # left partition\n",
    "      rhs = list(list(np.where(np.isin(dfp,rhv)))[0]) # right partition\n",
    "    elif mode=='relaxed': # i want |lhs| = |rhs| +-1\n",
    "      lhv = unique[:length//2]\n",
    "      rhv = unique[length//2:]\n",
    "      lhs = list(list(np.where(np.isin(dfp,lhv)))[0]) # left partition\n",
    "      rhs = list(list(np.where(np.isin(dfp,rhv)))[0]) # right partition\n",
    "      diff = len(lhs)-len(rhs)\n",
    "      #print(diff)\n",
    "      if diff<0:\n",
    "        lhs1 = rhs[:(np.abs(diff)//2)] # move first |diff|/2 indices from rhs to lhs\n",
    "        rhs = rhs[(np.abs(diff)//2):] \n",
    "        lhs = np.concatenate((lhs,lhs1))\n",
    "      else:\n",
    "        rhs1 = lhs[-(diff//2):]\n",
    "        lhs = lhs[:-(diff//2)]\n",
    "        rhs = np.concatenate((rhs,rhs1))\n",
    "    else:\n",
    "      lhs, rhs = splitVal(df, dim, partition, 'relaxed')\n",
    "      #print('')\n",
    "  else: # for numerical variables, split based on median value (strict or relaxed)\n",
    "    #print(np.median(dfp))\n",
    "    median = np.median(dfp)\n",
    "    if mode=='strict': # strict partitioning (do not equally split indices of median values)\n",
    "      lhs = list(list(np.where(dfp < median))[0])\n",
    "      rhs = list(list(np.where(dfp >= median))[0])\n",
    "    elif mode=='relaxed': # exact median values are equally split between the two halves\n",
    "      lhs_p = list(list(np.where(dfp < median))[0])\n",
    "      rhs_p = list(list(np.where(dfp > median))[0])\n",
    "      median_ixs = list(list(np.where(dfp == median))[0])\n",
    "      diff = len(lhs_p)-len(rhs_p) # i need to have |lhs| = |rhs| +- 1\n",
    "      #print(diff)\n",
    "      if diff<0:\n",
    "        med_lhs1 = np.random.choice(median_ixs, size=np.abs(diff), replace=False) # first even up |lhs_p| and |rhs_p|\n",
    "        lhs_p = np.concatenate((lhs_p,med_lhs1))\n",
    "        med_to_split = [i for i in median_ixs if i not in med_lhs1] # prepare remaining indices for equal split\n",
    "      else: # same but |rhs_p| needs to be levelled up to |lhs_p|\n",
    "        med_rhs1 = np.random.choice(median_ixs, size=np.abs(diff), replace=False)\n",
    "        rhs_p = np.concatenate((rhs_p,med_rhs1))\n",
    "        med_to_split = [i for i in median_ixs if i not in med_rhs1]\n",
    "      med_lhs = np.random.choice(med_to_split, size=(len(med_to_split)//2), replace=False) # split remaining median indices equally between lhs and rhs\n",
    "      med_rhs = [i for i in med_to_split if i not in med_lhs]\n",
    "      lhs = np.concatenate((lhs_p,med_lhs))\n",
    "      rhs = np.concatenate((rhs_p,med_rhs))\n",
    "    else:\n",
    "      #print(\"Mode should be either 'strict' or 'relaxed'. Falling back to relaxed mode.\")\n",
    "      lhs, rhs = splitVal(df, dim, partition, 'relaxed')\n",
    "  return [int(x) for x in lhs], [int(x) for x in rhs]"
   ]
  },
  {
   "cell_type": "code",
   "execution_count": 9,
   "metadata": {
    "id": "rLdJ0bybsxys"
   },
   "outputs": [],
   "source": [
    "# create k-anonymous equivalence classes\n",
    "def partitioning(df, dimensions, k, cat_dict, mode):\n",
    "    \n",
    "  final_partitions = []\n",
    "  working_partitions = [[x for x in range(len(df))]] # start with full dataset\n",
    "\n",
    "  while len(working_partitions) > 0: # while there is at least one working partition left\n",
    "    \n",
    "    #print(len(working_partitions))\n",
    "    partition = working_partitions[0] # take the first in the list\n",
    "    #print(len(partition))\n",
    "    working_partitions = working_partitions[1:] # remove it from list of working partitions\n",
    "\n",
    "    if len(partition) <= 2*k: # if it is not at least 2k long, i.e. if i cannot get any new acceptable partition pair, at least k-long each\n",
    "      final_partitions.append(partition) # append it to final set of partitions\n",
    "      #print(len(final_partitions))\n",
    "      # and skip to the next partition\n",
    "    else:\n",
    "      spans = colSpans(df, dimensions, cat_dict, partition) # else, get spans of the feature columns restricted to this partition\n",
    "      ordered_span_cols = sorted(spans.items(), key=lambda x:x[1], reverse=True) # sort col indices in descending order based on their span\n",
    "      for dim, _ in ordered_span_cols: # select the largest first, then second largest, ...\n",
    "        lhs, rhs = splitVal(df, dim, partition, cat_dict, mode) # try to split this partition\n",
    "        #print(len(lhs),len(rhs))\n",
    "        if len(lhs) >= k and len(rhs) >= k: # if new partitions are not too small (<k items), this partitioning is okay\n",
    "            working_partitions.append(lhs) \n",
    "            working_partitions.append(rhs) # re-append both new partitions to set of working partitions for further partitioning\n",
    "            break # break for loop and go to next partition, if available          \n",
    "      else: # if no column could provide an allowable partitioning \n",
    "        #print('No allowable cuts, adding partition of size {}'.format(len(partition)))\n",
    "        final_partitions.append(partition) # add the whole partition to the list of final partitions \n",
    "        #print(len(final_partitions))\n",
    "\n",
    "  return final_partitions"
   ]
  },
  {
   "cell_type": "code",
   "execution_count": 10,
   "metadata": {
    "id": "BoEvOrirsxyu"
   },
   "outputs": [],
   "source": [
    "# build k-anonymous equivalence classes\n",
    "k = 10\n",
    "#quasi_identifiers = ['age','workclass','education','education-num','marital-status','relationship']\n",
    "#quasi_identifiers = ['age','fnlwgt','education-num','hours-per-week']\n",
    "#quasi_identifiers = ['age','workclass','education']\n",
    "#['age','workclass','education','marital-status','occupation','race','gender','native-country','income']\n",
    "quasi_identifiers_cols = ['age','workclass','education','marital-status','occupation','race','gender','native-country']\n",
    "quasi_identifiers = {k: v for k, v in col_dict.items() if v in quasi_identifiers_cols}\n",
    "sensitive_data_cols = ['income']\n",
    "sensitive_data = {k: v for k, v in col_dict.items() if v in sensitive_data_cols}"
   ]
  },
  {
   "cell_type": "code",
   "execution_count": 11,
   "metadata": {
    "colab": {
     "base_uri": "https://localhost:8080/"
    },
    "id": "TkuQrg-Rei1y",
    "outputId": "b14cbf8f-6837-44eb-c055-4fe75b5f6193"
   },
   "outputs": [
    {
     "data": {
      "text/plain": [
       "4096"
      ]
     },
     "execution_count": 11,
     "metadata": {},
     "output_type": "execute_result"
    }
   ],
   "source": [
    "equivalence_classes = partitioning(df, quasi_identifiers, k, cat_dict, 'relaxed')\n",
    "len(equivalence_classes)"
   ]
  },
  {
   "cell_type": "code",
   "execution_count": 12,
   "metadata": {
    "colab": {
     "base_uri": "https://localhost:8080/"
    },
    "id": "Ot6ydNMOiYzh",
    "outputId": "a0e85e91-eb51-4857-9b5e-a8e131d8f671"
   },
   "outputs": [
    {
     "name": "stdout",
     "output_type": "stream",
     "text": [
      "48842\n"
     ]
    }
   ],
   "source": [
    "# check if all items have been kept\n",
    "sum = 0\n",
    "for i in range(len(equivalence_classes)):\n",
    "  sum += len(equivalence_classes[i])\n",
    "print(sum)"
   ]
  },
  {
   "cell_type": "code",
   "execution_count": 13,
   "metadata": {
    "id": "v2zEZZWVDHqG"
   },
   "outputs": [],
   "source": [
    "# generate the anonymised dataset\n",
    "# i want a list of rows where each row has [original index + aggregate values of all feature columns + sensitive data column]\n",
    "# then i will convert it to a df\n",
    "def anonymize_df(df, partitions, quasi_identifiers_dict, sensitive_data_dict, mode='range'): \n",
    "  anon_df = []\n",
    "  quasi_identifiers = [k for k, v in quasi_identifiers_dict.items()]\n",
    "  quasi_identifiers_cols = [v for k, v in quasi_identifiers_dict.items()]\n",
    "  sensitive_data = [k for k, v in sensitive_data_dict.items()]\n",
    "  sensitive_data_cols = [v for k, v in sensitive_data_dict.items()]\n",
    "  #print(quasi_identifiers)\n",
    "  column_names = ['index'] + quasi_identifiers_cols + sensitive_data_cols\n",
    "  categorical = [k for k, v in cat_dict.items()]\n",
    "  for ip,p in tqdm(enumerate(partitions)):\n",
    "    #print(p)\n",
    "    aggregate_values_for_partition = []\n",
    "    partition = df[p,:][:,quasi_identifiers]\n",
    "    for column in quasi_identifiers:\n",
    "      if column in categorical:\n",
    "        values = list(np.unique(partition[:,column]))\n",
    "        #aggregate_values_for_partition.append(values) \n",
    "        aggregate_values_for_partition.append(','.join(values))\n",
    "      else:\n",
    "        col_min = np.min(partition[:,column])\n",
    "        col_max = np.max(partition[:,column])\n",
    "        if col_min == col_max:\n",
    "          aggregate_values_for_partition.append(col_min)\n",
    "        else:\n",
    "          aggregate_values_for_partition.append('{}-{}'.format(col_min,col_max))\n",
    "    for item in range(len(p)):\n",
    "      sensitive_value = df[p[item],sensitive_data]\n",
    "      anon_df.append([int(p[item])]+aggregate_values_for_partition+[sensitive_value])\n",
    "  \n",
    "  df_anon = pd.DataFrame(anon_df, columns=column_names)\n",
    "  dfn1 = df_anon.sort_values('index')\n",
    "  dfn1 = dfn1.reset_index()\n",
    "  dfn1 = dfn1.iloc[:,2:]\n",
    "  return dfn1"
   ]
  },
  {
   "cell_type": "code",
   "execution_count": 14,
   "metadata": {
    "colab": {
     "base_uri": "https://localhost:8080/"
    },
    "id": "jWYblkmdsxy2",
    "outputId": "c0611e6d-9a8a-418d-a96e-cbe9163a6fa1"
   },
   "outputs": [
    {
     "name": "stderr",
     "output_type": "stream",
     "text": [
      "4096it [00:00, 5389.51it/s]\n"
     ]
    },
    {
     "data": {
      "text/plain": [
       "(48842, 48842)"
      ]
     },
     "execution_count": 14,
     "metadata": {},
     "output_type": "execute_result"
    }
   ],
   "source": [
    "# anonymise dataset\n",
    "dfn = anonymize_df(df, equivalence_classes, quasi_identifiers, sensitive_data)\n",
    "len(dfn),len(df)"
   ]
  },
  {
   "cell_type": "code",
   "execution_count": 15,
   "metadata": {
    "colab": {
     "base_uri": "https://localhost:8080/"
    },
    "id": "fsrQOa1RPjxe",
    "outputId": "69b46977-084e-4448-b417-26ed7e301a57"
   },
   "outputs": [
    {
     "data": {
      "text/plain": [
       "array([[39, ' State-gov', ' Bachelors', ' Never-married',\n",
       "        ' Adm-clerical', ' White', ' Male', ' United-States', ' <=50k'],\n",
       "       [50, ' Self-emp-not-inc', ' Bachelors', ' Married-civ-spouse',\n",
       "        ' Exec-managerial', ' White', ' Male', ' United-States',\n",
       "        ' <=50k'],\n",
       "       [38, ' Private', ' HS-grad', ' Divorced', ' Handlers-cleaners',\n",
       "        ' White', ' Male', ' United-States', ' <=50k'],\n",
       "       [53, ' Private', ' 11th', ' Married-civ-spouse',\n",
       "        ' Handlers-cleaners', ' Black', ' Male', ' United-States',\n",
       "        ' <=50k'],\n",
       "       [28, ' Private', ' Bachelors', ' Married-civ-spouse',\n",
       "        ' Prof-specialty', ' Black', ' Female', ' Cuba', ' <=50k']],\n",
       "      dtype=object)"
      ]
     },
     "execution_count": 15,
     "metadata": {},
     "output_type": "execute_result"
    }
   ],
   "source": [
    "# compare with original dataset\n",
    "df[:5]"
   ]
  },
  {
   "cell_type": "code",
   "execution_count": 16,
   "metadata": {
    "colab": {
     "base_uri": "https://localhost:8080/",
     "height": 476
    },
    "id": "WBHXF-X1g2qX",
    "outputId": "22d44880-c016-403a-a6f8-ad04b9c135a6"
   },
   "outputs": [
    {
     "data": {
      "text/html": [
       "<div>\n",
       "<style scoped>\n",
       "    .dataframe tbody tr th:only-of-type {\n",
       "        vertical-align: middle;\n",
       "    }\n",
       "\n",
       "    .dataframe tbody tr th {\n",
       "        vertical-align: top;\n",
       "    }\n",
       "\n",
       "    .dataframe thead th {\n",
       "        text-align: right;\n",
       "    }\n",
       "</style>\n",
       "<table border=\"1\" class=\"dataframe\">\n",
       "  <thead>\n",
       "    <tr style=\"text-align: right;\">\n",
       "      <th></th>\n",
       "      <th>age</th>\n",
       "      <th>workclass</th>\n",
       "      <th>education</th>\n",
       "      <th>marital-status</th>\n",
       "      <th>occupation</th>\n",
       "      <th>race</th>\n",
       "      <th>gender</th>\n",
       "      <th>native-country</th>\n",
       "      <th>income</th>\n",
       "    </tr>\n",
       "  </thead>\n",
       "  <tbody>\n",
       "    <tr>\n",
       "      <th>0</th>\n",
       "      <td>23-53</td>\n",
       "      <td>Private, Self-emp-not-inc, State-gov</td>\n",
       "      <td>11th, 7th-8th, 9th, Assoc-voc, Bachelors, HS-...</td>\n",
       "      <td>Divorced, Married-civ-spouse, Married-spouse-...</td>\n",
       "      <td>Adm-clerical, Craft-repair, Exec-managerial, ...</td>\n",
       "      <td>Amer-Indian-Eskimo, Asian-Pac-Islander, Black...</td>\n",
       "      <td>Female, Male</td>\n",
       "      <td>-1, Cuba, Jamaica, Mexico, United-States</td>\n",
       "      <td>[ &lt;=50k]</td>\n",
       "    </tr>\n",
       "    <tr>\n",
       "      <th>1</th>\n",
       "      <td>23-54</td>\n",
       "      <td>Federal-gov, Private, Self-emp-not-inc, State...</td>\n",
       "      <td>11th, 9th, Assoc-voc, Bachelors, HS-grad, Mas...</td>\n",
       "      <td>Divorced, Married-civ-spouse, Never-married, ...</td>\n",
       "      <td>Adm-clerical, Craft-repair, Exec-managerial, ...</td>\n",
       "      <td>Asian-Pac-Islander, Black, White</td>\n",
       "      <td>Female, Male</td>\n",
       "      <td>-1, India, United-States</td>\n",
       "      <td>[ &lt;=50k]</td>\n",
       "    </tr>\n",
       "    <tr>\n",
       "      <th>2</th>\n",
       "      <td>28-54</td>\n",
       "      <td>Private, Self-emp-not-inc, State-gov</td>\n",
       "      <td>11th, 7th-8th, 9th, Assoc-acdm, Bachelors, HS...</td>\n",
       "      <td>Divorced, Married-civ-spouse, Married-spouse-...</td>\n",
       "      <td>Adm-clerical, Exec-managerial, Handlers-clean...</td>\n",
       "      <td>Amer-Indian-Eskimo, Asian-Pac-Islander, Black...</td>\n",
       "      <td>Female, Male</td>\n",
       "      <td>Cuba, India, Jamaica, Mexico, United-States</td>\n",
       "      <td>[ &lt;=50k]</td>\n",
       "    </tr>\n",
       "    <tr>\n",
       "      <th>3</th>\n",
       "      <td>23-53</td>\n",
       "      <td>Federal-gov, Private, Self-emp-not-inc, State...</td>\n",
       "      <td>11th, 9th, Assoc-acdm, Assoc-voc, Bachelors, ...</td>\n",
       "      <td>Divorced, Married-civ-spouse, Never-married</td>\n",
       "      <td>Adm-clerical, Craft-repair, Exec-managerial, ...</td>\n",
       "      <td>Asian-Pac-Islander, Black, White</td>\n",
       "      <td>Female, Male</td>\n",
       "      <td>-1, United-States</td>\n",
       "      <td>[ &lt;=50k]</td>\n",
       "    </tr>\n",
       "    <tr>\n",
       "      <th>4</th>\n",
       "      <td>25-54</td>\n",
       "      <td>Private, Self-emp-not-inc, State-gov</td>\n",
       "      <td>11th, 9th, Assoc-acdm, Assoc-voc, Bachelors, ...</td>\n",
       "      <td>Divorced, Married-civ-spouse, Married-spouse-...</td>\n",
       "      <td>Adm-clerical, Craft-repair, Exec-managerial, ...</td>\n",
       "      <td>Asian-Pac-Islander, Black, White</td>\n",
       "      <td>Female, Male</td>\n",
       "      <td>-1, India, Jamaica, United-States</td>\n",
       "      <td>[ &lt;=50k]</td>\n",
       "    </tr>\n",
       "  </tbody>\n",
       "</table>\n",
       "</div>"
      ],
      "text/plain": [
       "     age                                          workclass  \\\n",
       "0  23-53               Private, Self-emp-not-inc, State-gov   \n",
       "1  23-54   Federal-gov, Private, Self-emp-not-inc, State...   \n",
       "2  28-54               Private, Self-emp-not-inc, State-gov   \n",
       "3  23-53   Federal-gov, Private, Self-emp-not-inc, State...   \n",
       "4  25-54               Private, Self-emp-not-inc, State-gov   \n",
       "\n",
       "                                           education  \\\n",
       "0   11th, 7th-8th, 9th, Assoc-voc, Bachelors, HS-...   \n",
       "1   11th, 9th, Assoc-voc, Bachelors, HS-grad, Mas...   \n",
       "2   11th, 7th-8th, 9th, Assoc-acdm, Bachelors, HS...   \n",
       "3   11th, 9th, Assoc-acdm, Assoc-voc, Bachelors, ...   \n",
       "4   11th, 9th, Assoc-acdm, Assoc-voc, Bachelors, ...   \n",
       "\n",
       "                                      marital-status  \\\n",
       "0   Divorced, Married-civ-spouse, Married-spouse-...   \n",
       "1   Divorced, Married-civ-spouse, Never-married, ...   \n",
       "2   Divorced, Married-civ-spouse, Married-spouse-...   \n",
       "3        Divorced, Married-civ-spouse, Never-married   \n",
       "4   Divorced, Married-civ-spouse, Married-spouse-...   \n",
       "\n",
       "                                          occupation  \\\n",
       "0   Adm-clerical, Craft-repair, Exec-managerial, ...   \n",
       "1   Adm-clerical, Craft-repair, Exec-managerial, ...   \n",
       "2   Adm-clerical, Exec-managerial, Handlers-clean...   \n",
       "3   Adm-clerical, Craft-repair, Exec-managerial, ...   \n",
       "4   Adm-clerical, Craft-repair, Exec-managerial, ...   \n",
       "\n",
       "                                                race         gender  \\\n",
       "0   Amer-Indian-Eskimo, Asian-Pac-Islander, Black...   Female, Male   \n",
       "1                   Asian-Pac-Islander, Black, White   Female, Male   \n",
       "2   Amer-Indian-Eskimo, Asian-Pac-Islander, Black...   Female, Male   \n",
       "3                   Asian-Pac-Islander, Black, White   Female, Male   \n",
       "4                   Asian-Pac-Islander, Black, White   Female, Male   \n",
       "\n",
       "                                 native-country    income  \n",
       "0      -1, Cuba, Jamaica, Mexico, United-States  [ <=50k]  \n",
       "1                      -1, India, United-States  [ <=50k]  \n",
       "2   Cuba, India, Jamaica, Mexico, United-States  [ <=50k]  \n",
       "3                             -1, United-States  [ <=50k]  \n",
       "4             -1, India, Jamaica, United-States  [ <=50k]  "
      ]
     },
     "execution_count": 16,
     "metadata": {},
     "output_type": "execute_result"
    }
   ],
   "source": [
    "dfn[:5]"
   ]
  },
  {
   "cell_type": "code",
   "execution_count": 17,
   "metadata": {
    "id": "sQF6EkXfhdK1"
   },
   "outputs": [],
   "source": [
    "# evaluation metrics\n",
    "def discernability(partitions):\n",
    "  sum = 0.0\n",
    "  for p in range(len(partitions)):\n",
    "    sum += len(partitions[p])**2\n",
    "  return sum\n",
    "\n",
    "def avg_eqclass(total_records,number_of_partitions,k):\n",
    "  return (total_records/number_of_partitions)/k*1.0"
   ]
  },
  {
   "cell_type": "code",
   "execution_count": 18,
   "metadata": {
    "id": "t-R1N72JB6Zv"
   },
   "outputs": [],
   "source": [
    "# check if any equivalence class contains less than k items\n",
    "def is_k_anonymous(df, quasi_identifiers, k):\n",
    "  dfp = df.loc[:,quasi_identifiers]\n",
    "  m = dfp.groupby(dfp.columns.tolist(),as_index=False).size()['size'].max()\n",
    "  if m >= k: return True\n",
    "  return False"
   ]
  },
  {
   "cell_type": "code",
   "execution_count": 19,
   "metadata": {
    "colab": {
     "base_uri": "https://localhost:8080/"
    },
    "id": "POI4-paCiOIZ",
    "outputId": "9eefd846-e708-41ca-994d-fe8674d37afd"
   },
   "outputs": [
    {
     "data": {
      "text/plain": [
       "True"
      ]
     },
     "execution_count": 19,
     "metadata": {},
     "output_type": "execute_result"
    }
   ],
   "source": [
    "is_k_anonymous(dfn, quasi_identifiers_cols, k)"
   ]
  },
  {
   "cell_type": "markdown",
   "metadata": {
    "id": "Q7kQuDA55JvQ"
   },
   "source": [
    "### Test with different k values"
   ]
  },
  {
   "cell_type": "code",
   "execution_count": 20,
   "metadata": {
    "colab": {
     "base_uri": "https://localhost:8080/"
    },
    "id": "Hj4WWjB_5Ij6",
    "outputId": "1231f36a-e937-4ff0-8306-28371ab86544"
   },
   "outputs": [
    {
     "name": "stderr",
     "output_type": "stream",
     "text": [
      "100%|████████████████████████████████████████████████████████████████████████████████████| 9/9 [00:27<00:00,  3.04s/it]\n"
     ]
    }
   ],
   "source": [
    "# relaxed mode\n",
    "\n",
    "ks = [2,5,10,25,50,100,250,500,1000]\n",
    "optimal_discR = [k*len(df) for k in ks] # optimal\n",
    "worst_discR = [2*k*len(df) for k in ks] # worst for relaxed version\n",
    "execution_timesR = []\n",
    "discernabilitiesR = []\n",
    "avg_metricsR = []\n",
    "mean_size_kR = []\n",
    "min_size_kR = []\n",
    "max_size_kR = []\n",
    "quasi_identifiers_cols = ['age','workclass','education','marital-status','occupation','race','gender','native-country']\n",
    "quasi_identifiers = {k: v for k, v in col_dict.items() if v in quasi_identifiers_cols}\n",
    "sensitive_data_cols = ['income']\n",
    "sensitive_data = {k: v for k, v in col_dict.items() if v in sensitive_data_cols}\n",
    "\n",
    "for k in tqdm(ks):\n",
    "  start = time.time()\n",
    "  sizes = []\n",
    "  equivalence_classes = partitioning(df, quasi_identifiers, k, cat_dict, 'relaxed')\n",
    "  execution_timesR.append(time.time()-start)\n",
    "\n",
    "  for i in range(len(equivalence_classes)):\n",
    "    if len(equivalence_classes[i]) < k:\n",
    "      print('issue with k = {}. partition bounds were not respected'.format(k,i,len(equivalence_classes[i])))\n",
    "    sizes.append(len(equivalence_classes[i]))\n",
    "  mean_size_kR.append(np.sum(sizes)*1.0/len(equivalence_classes))\n",
    "  max_size_kR.append(np.max(sizes))\n",
    "  min_size_kR.append(np.min(sizes))\n",
    "  \n",
    "  discernabilitiesR.append(discernability(equivalence_classes))\n",
    "  avg_metricsR.append(avg_eqclass(len(df),len(equivalence_classes),k))"
   ]
  },
  {
   "cell_type": "code",
   "execution_count": 21,
   "metadata": {
    "colab": {
     "base_uri": "https://localhost:8080/",
     "height": 350
    },
    "id": "aNVKTfA6_B31",
    "outputId": "50fbb7e2-a891-485b-c52d-12cfc1052cbd"
   },
   "outputs": [
    {
     "data": {
      "image/png": "[encoded data removed]",
      "text/plain": [
       "<Figure size 360x360 with 1 Axes>"
      ]
     },
     "metadata": {
      "needs_background": "light"
     },
     "output_type": "display_data"
    }
   ],
   "source": [
    "# check whether partition sizes are in the expected range\n",
    "max_allowed_sizeR = [(2*k)-1 for k in ks]\n",
    "\n",
    "ks = [3,5,10,25,50,100,250,500,1000]\n",
    "fig = plt.figure(figsize=(5,5))\n",
    "plt.plot(np.arange(len(ks)), ks, label='Optimal case')\n",
    "plt.plot(np.arange(len(ks)), min_size_kR, label='MIN Mondrian')\n",
    "plt.plot(np.arange(len(ks)), max_size_kR, label='MAX Mondrian')\n",
    "plt.plot(np.arange(len(ks)), max_allowed_sizeR, label='Worst case')\n",
    "plt.xticks(np.arange(len(ks)), labels=ks)\n",
    "plt.xlabel('k')\n",
    "plt.ylabel('Partition size')\n",
    "plt.title('Mondrian, relaxed partitioning')\n",
    "plt.legend()\n",
    "plt.grid()\n",
    "plt.show()"
   ]
  },
  {
   "cell_type": "code",
   "execution_count": 22,
   "metadata": {
    "colab": {
     "base_uri": "https://localhost:8080/",
     "height": 350
    },
    "id": "CFWWdbDiC_KT",
    "outputId": "00f80b01-7fee-4451-f855-d0ef1049a8a1"
   },
   "outputs": [
    {
     "data": {
      "image/png": "[encoded data removed]",
      "text/plain": [
       "<Figure size 360x360 with 1 Axes>"
      ]
     },
     "metadata": {
      "needs_background": "light"
     },
     "output_type": "display_data"
    }
   ],
   "source": [
    "# plot discernability penalty evolution based on k values\n",
    "\n",
    "fig = plt.figure(figsize=(5,5))\n",
    "plt.plot(np.arange(len(ks)), discernabilitiesR, label='Current')\n",
    "plt.plot(np.arange(len(ks)), optimal_discR, label='Optimal case')\n",
    "plt.plot(np.arange(len(ks)), worst_discR, label='Worst case')\n",
    "plt.yscale(\"log\")\n",
    "plt.xticks(np.arange(len(ks)), labels=ks)\n",
    "plt.yticks([1e5,1e6,1e7,1e8])\n",
    "plt.xlabel('k')\n",
    "plt.ylabel('Discernability penalty')\n",
    "plt.title('Mondrian, relaxed partitioning')\n",
    "plt.legend()\n",
    "plt.grid()\n",
    "plt.show()"
   ]
  },
  {
   "cell_type": "code",
   "execution_count": 23,
   "metadata": {
    "colab": {
     "base_uri": "https://localhost:8080/"
    },
    "id": "3mxbQONLkvt1",
    "outputId": "bffb325d-2b0b-4bf5-e88f-a219983720c1"
   },
   "outputs": [
    {
     "name": "stderr",
     "output_type": "stream",
     "text": [
      "100%|████████████████████████████████████████████████████████████████████████████████████| 9/9 [00:23<00:00,  2.56s/it]\n"
     ]
    }
   ],
   "source": [
    "# strict mode\n",
    "\n",
    "ks = [2,5,10,25,50,100,250,500,1000]\n",
    "discernabilitiesS = []\n",
    "execution_timesS = []\n",
    "avg_metricsS = []\n",
    "mean_size_kS = []\n",
    "min_size_kS = []\n",
    "max_size_kS = []\n",
    "#quasi_identifiers = ['age','workclass','education','marital-status','occupation',\n",
    "#         'race','sex','native-country']\n",
    "quasi_identifiers_cols = ['age','workclass','education','marital-status','occupation','race','gender','native-country']\n",
    "quasi_identifiers = {k: v for k, v in col_dict.items() if v in quasi_identifiers_cols}\n",
    "sensitive_data_cols = ['income']\n",
    "sensitive_data = {k: v for k, v in col_dict.items() if v in sensitive_data_cols}\n",
    "\n",
    "for k in tqdm(ks):\n",
    "  start = time.time()\n",
    "  sizes = []\n",
    "  equivalence_classes = partitioning(df, quasi_identifiers, k, cat_dict, 'strict')\n",
    "  execution_timesS.append(time.time()-start)\n",
    "\n",
    "  for i in range(len(equivalence_classes)):\n",
    "    if len(equivalence_classes[i]) < k: # check partition sizes\n",
    "      print('issue with k = {}, partition bounds were not respected'.format(k,i,len(equivalence_classes[i])))\n",
    "    sizes.append(len(equivalence_classes[i]))\n",
    "  mean_size_kS.append(np.sum(sizes)*1.0/len(equivalence_classes))\n",
    "  max_size_kS.append(np.max(sizes))\n",
    "  min_size_kS.append(np.min(sizes))\n",
    "  \n",
    "  discernabilitiesS.append(discernability(equivalence_classes))\n",
    "  avg_metricsS.append(avg_eqclass(len(df),len(equivalence_classes),k))"
   ]
  },
  {
   "cell_type": "code",
   "execution_count": 24,
   "metadata": {
    "colab": {
     "base_uri": "https://localhost:8080/",
     "height": 350
    },
    "id": "Szv1DGaxYaRr",
    "outputId": "52c5bdd0-ac67-4583-8a03-625546fa3fc6"
   },
   "outputs": [
    {
     "data": {
      "image/png": "[encoded data removed]",
      "text/plain": [
       "<Figure size 360x360 with 1 Axes>"
      ]
     },
     "metadata": {
      "needs_background": "light"
     },
     "output_type": "display_data"
    }
   ],
   "source": [
    "# check whether partition sizes are in the expected range\n",
    "max_allowed_sizeS = [(2*len(quasi_identifiers)*(k-1))+m for k in ks]\n",
    "\n",
    "fig = plt.figure(figsize=(5,5))\n",
    "plt.plot(np.arange(len(ks)), ks, label='Optimal case')\n",
    "plt.plot(np.arange(len(ks)), min_size_kS, label='MIN Mondrian')\n",
    "plt.plot(np.arange(len(ks)), max_size_kS, label='MAX Mondrian')\n",
    "plt.plot(np.arange(len(ks)), max_allowed_sizeS, label='Worst case')\n",
    "plt.xticks(np.arange(len(ks)), labels=ks)\n",
    "plt.xlabel('k')\n",
    "plt.ylabel('Partition size')\n",
    "plt.title('Mondrian, strict partitioning')\n",
    "plt.legend()\n",
    "plt.grid()\n",
    "plt.show()"
   ]
  },
  {
   "cell_type": "code",
   "execution_count": 25,
   "metadata": {
    "colab": {
     "base_uri": "https://localhost:8080/",
     "height": 350
    },
    "id": "TeCIXB0pOpyK",
    "outputId": "cab15b09-6703-462a-abd2-dd7027e37c5e"
   },
   "outputs": [
    {
     "data": {
      "image/png": "[encoded data removed]",
      "text/plain": [
       "<Figure size 360x360 with 1 Axes>"
      ]
     },
     "metadata": {
      "needs_background": "light"
     },
     "output_type": "display_data"
    }
   ],
   "source": [
    "# check if discernability is between optimal and worse\n",
    "optimal_discS = [k*len(df) for k in ks] # optimal\n",
    "worst_discS = [] # worse\n",
    "for k in ks:\n",
    "  worst_discS.append((2*len(quasi_identifiers)*(k-1)+m)*len(df))\n",
    "\n",
    "fig = plt.figure(figsize=(5,5))\n",
    "plt.plot(np.arange(len(ks)), discernabilitiesS, label='Current')\n",
    "plt.plot(np.arange(len(ks)), optimal_discS, label='Optimal case')\n",
    "plt.plot(np.arange(len(ks)), worst_discS, label='Worst case')\n",
    "plt.yscale(\"log\")\n",
    "plt.xticks(np.arange(len(ks)), labels=ks)\n",
    "plt.yticks([1e5,1e6,1e7,1e8])\n",
    "plt.xlabel('k')\n",
    "plt.ylabel('Discernability penalty')\n",
    "plt.title('Mondrian, strict partitioning')\n",
    "plt.legend()\n",
    "plt.grid()\n",
    "plt.show()"
   ]
  },
  {
   "cell_type": "code",
   "execution_count": 26,
   "metadata": {
    "colab": {
     "base_uri": "https://localhost:8080/",
     "height": 350
    },
    "id": "W3QhuUNgZzn1",
    "outputId": "fc077387-e1d6-47b1-df6e-3d86a31c65a2"
   },
   "outputs": [
    {
     "data": {
      "image/png": "[encoded data removed]",
      "text/plain": [
       "<Figure size 360x360 with 1 Axes>"
      ]
     },
     "metadata": {
      "needs_background": "light"
     },
     "output_type": "display_data"
    }
   ],
   "source": [
    "# plot execution time evolution based on k values\n",
    "\n",
    "fig = plt.figure(figsize=(5,5))\n",
    "plt.plot(np.arange(len(ks)), execution_timesS, label='Strict')\n",
    "plt.plot(np.arange(len(ks)), execution_timesR, label='Relaxed')\n",
    "plt.xticks(np.arange(len(ks)), labels=ks)\n",
    "plt.xlabel('k')\n",
    "plt.ylabel('Execution time')\n",
    "plt.title('Mondrian, different partitionings')\n",
    "plt.legend()\n",
    "plt.grid()\n",
    "plt.show()"
   ]
  },
  {
   "cell_type": "markdown",
   "metadata": {
    "id": "2TV6dB1e-nhk"
   },
   "source": [
    "### Test with synthetic data"
   ]
  },
  {
   "cell_type": "code",
   "execution_count": 27,
   "metadata": {
    "id": "QtgUC3GC5Dyv"
   },
   "outputs": [],
   "source": [
    "from sklearn.preprocessing import KBinsDiscretizer\n",
    "\n",
    "# generate 10 000 tuples with 5 attributes and per-attribute cardinality = 8\n",
    "enc = KBinsDiscretizer(n_bins=8, encode='ordinal', strategy='kmeans') # discretizer for normal distribution\n",
    "n_tuples = 10000\n",
    "\n",
    "# discrete uniform distribution\n",
    "uniform = np.random.randint(low=0, high=8, size=(n_tuples,5))\n",
    "\n",
    "# normal distribution (mean = 3.5, std = 0.2, k between 2 and 1000)\n",
    "n1 = np.random.normal(loc=3.5, scale=0.2, size=(n_tuples,5))\n",
    "normal1 = enc.fit(n1).transform(n1)\n",
    "\n",
    "# normal distribution (mean = 3.5, std between 0.1 and 0.5, k = 10)\n",
    "normal_std = []\n",
    "stds = [0.1, 0.5, 1, 2, 5]\n",
    "for std in stds:\n",
    "  n2 = np.random.normal(loc=3.5, scale=std, size=(n_tuples,5))\n",
    "  normal = enc.fit(n2).transform(n2)\n",
    "  normal_std.append(normal)\n",
    "\n",
    "# normal distribution (k = 10, std = 0.2, d between 2 and 8)\n",
    "normal_d = []\n",
    "dimensions = [2, 3, 4, 5, 6, 7, 8]\n",
    "for d in dimensions:\n",
    "  n3 = np.random.normal(loc=3.5, scale=0.2, size=(n_tuples,d))\n",
    "  normal = enc.fit(n3).transform(n3)\n",
    "  normal_d.append(normal)"
   ]
  },
  {
   "cell_type": "code",
   "execution_count": 294,
   "metadata": {
    "colab": {
     "base_uri": "https://localhost:8080/",
     "height": 419
    },
    "id": "SWcQuJkYlRI-",
    "outputId": "f8c42ddd-3db9-4cfc-a9b5-1028c7c30cb5"
   },
   "outputs": [
    {
     "name": "stderr",
     "output_type": "stream",
     "text": [
      "100%|██████████| 9/9 [00:03<00:00,  2.29it/s]\n"
     ]
    },
    {
     "name": "stdout",
     "output_type": "stream",
     "text": [
      "\n"
     ]
    },
    {
     "data": {
      "image/png": "[encoded data removed]",
      "text/plain": [
       "<Figure size 360x360 with 1 Axes>"
      ]
     },
     "metadata": {
      "needs_background": "light"
     },
     "output_type": "display_data"
    },
    {
     "name": "stdout",
     "output_type": "stream",
     "text": [
      "[27344.0, 97840.0, 195440.0, 390640.0, 781264.0, 1562512.0, 3125008.0, 6250000.0, 12500000.0] \n",
      " [32084.0, 74948.0, 147106.0, 365510.0, 706494.0, 1410664.0, 3567828.0, 7554660.0, 15163192.0]\n"
     ]
    }
   ],
   "source": [
    "# uniform\n",
    "ks = [2,5,10,25,50,100,250,500,1000]\n",
    "discernabilitiesUR = []\n",
    "discernabilitiesUS = []\n",
    "cat = {} # no categorical variables\n",
    "\n",
    "for k in tqdm(ks):\n",
    "  equivalence_classesR = partitioning(uniform, np.arange(uniform.shape[1]), k, cat, 'relaxed')\n",
    "  discernabilitiesUR.append(discernability(equivalence_classesR))\n",
    "  equivalence_classesS = partitioning(uniform, np.arange(uniform.shape[1]), k, cat, 'strict')\n",
    "  discernabilitiesUS.append(discernability(equivalence_classesS))\n",
    "print('')\n",
    "\n",
    "fig = plt.figure(figsize=(5,5))\n",
    "plt.plot(np.arange(len(ks)), discernabilitiesUR, label='Relaxed')\n",
    "plt.plot(np.arange(len(ks)), discernabilitiesUS, label='Strict')\n",
    "plt.yscale(\"log\")\n",
    "plt.xticks(np.arange(len(ks)), labels=ks)\n",
    "plt.yticks([1e5,1e6,1e7])\n",
    "plt.xlabel('k')\n",
    "plt.ylabel('Discernability penalty')\n",
    "plt.title('Uniform, 5 attributes')\n",
    "plt.legend()\n",
    "plt.grid()\n",
    "plt.show()\n",
    "\n",
    "print(discernabilitiesUR,'\\n',discernabilitiesUS)"
   ]
  },
  {
   "cell_type": "code",
   "execution_count": 295,
   "metadata": {
    "colab": {
     "base_uri": "https://localhost:8080/",
     "height": 419
    },
    "id": "LfOcwGAfnYiQ",
    "outputId": "7e893238-14a6-475e-da87-fcfdd646020a"
   },
   "outputs": [
    {
     "name": "stderr",
     "output_type": "stream",
     "text": [
      "100%|██████████| 9/9 [00:04<00:00,  2.05it/s]\n"
     ]
    },
    {
     "name": "stdout",
     "output_type": "stream",
     "text": [
      "\n"
     ]
    },
    {
     "data": {
      "image/png": "[encoded data removed]",
      "text/plain": [
       "<Figure size 360x360 with 1 Axes>"
      ]
     },
     "metadata": {
      "needs_background": "light"
     },
     "output_type": "display_data"
    },
    {
     "name": "stdout",
     "output_type": "stream",
     "text": [
      "[27344.0, 97840.0, 195440.0, 390640.0, 781264.0, 1562512.0, 3125008.0, 6250000.0, 12500000.0] \n",
      " [31496.0, 73248.0, 147022.0, 397472.0, 774678.0, 1550270.0, 3887620.0, 7724474.0, 18280302.0]\n"
     ]
    }
   ],
   "source": [
    "# normal distribution (mean = 3.5, std = 0.2, k between 2 and 1000)\n",
    "ks = [2,5,10,25,50,100,250,500,1000]\n",
    "discernabilitiesNR1 = []\n",
    "discernabilitiesNS1 = []\n",
    "cat = {} # no categorical variables\n",
    "\n",
    "for k in tqdm(ks):\n",
    "  equivalence_classesR = partitioning(normal1, np.arange(normal1.shape[1]), k, cat, 'relaxed')\n",
    "  discernabilitiesNR1.append(discernability(equivalence_classesR))\n",
    "  equivalence_classesS = partitioning(normal1, np.arange(normal1.shape[1]), k, cat, 'strict')\n",
    "  discernabilitiesNS1.append(discernability(equivalence_classesS))\n",
    "print('')\n",
    "\n",
    "fig = plt.figure(figsize=(5,5))\n",
    "plt.plot(np.arange(len(ks)), discernabilitiesNR1, label='Relaxed')\n",
    "plt.plot(np.arange(len(ks)), discernabilitiesNS1, label='Strict')\n",
    "plt.yscale(\"log\")\n",
    "plt.xticks(np.arange(len(ks)), labels=ks)\n",
    "plt.yticks([1e5,1e6,1e7])\n",
    "plt.xlabel('k')\n",
    "plt.ylabel('Discernability penalty')\n",
    "plt.title('Normal, mu=3.5, std=0.2')\n",
    "plt.legend()\n",
    "plt.grid()\n",
    "plt.show()\n",
    "\n",
    "print(discernabilitiesNR1,'\\n',discernabilitiesNS1)"
   ]
  },
  {
   "cell_type": "code",
   "execution_count": 296,
   "metadata": {
    "colab": {
     "base_uri": "https://localhost:8080/",
     "height": 419
    },
    "id": "SHtMIIHos6RT",
    "outputId": "3c7dd83e-147f-43ce-aae4-23179860c791"
   },
   "outputs": [
    {
     "name": "stderr",
     "output_type": "stream",
     "text": [
      "100%|██████████| 5/5 [00:02<00:00,  1.95it/s]\n"
     ]
    },
    {
     "name": "stdout",
     "output_type": "stream",
     "text": [
      "\n"
     ]
    },
    {
     "data": {
      "image/png": "[encoded data removed]",
      "text/plain": [
       "<Figure size 360x360 with 1 Axes>"
      ]
     },
     "metadata": {
      "needs_background": "light"
     },
     "output_type": "display_data"
    },
    {
     "name": "stdout",
     "output_type": "stream",
     "text": [
      "[195440.0, 195440.0, 195440.0, 195440.0, 195440.0] \n",
      " [145824.0, 144802.0, 146278.0, 147116.0, 147414.0]\n"
     ]
    }
   ],
   "source": [
    "# normal distribution (mean = 3.5, std between 0.1 and 0.5, k = 10)\n",
    "k = 10\n",
    "discernabilitiesNR2 = []\n",
    "discernabilitiesNS2 = []\n",
    "cat = {} # no categorical variables\n",
    "\n",
    "for n in tqdm(normal_std):\n",
    "  equivalence_classesR = partitioning(n, np.arange(n.shape[1]), k, cat, 'relaxed')\n",
    "  discernabilitiesNR2.append(discernability(equivalence_classesR))\n",
    "  equivalence_classesS = partitioning(n, np.arange(n.shape[1]), k, cat, 'strict')\n",
    "  discernabilitiesNS2.append(discernability(equivalence_classesS))\n",
    "print('')\n",
    "\n",
    "fig = plt.figure(figsize=(5,5))\n",
    "plt.plot(np.arange(len(stds)), discernabilitiesNR2, label='Relaxed')\n",
    "plt.plot(np.arange(len(stds)), discernabilitiesNS2, label='Strict')\n",
    "plt.yscale(\"log\")\n",
    "plt.xticks(np.arange(len(stds)), labels=stds)\n",
    "plt.yticks([1e5,1e6,1e7])\n",
    "plt.xlabel('Standard Deviation')\n",
    "plt.ylabel('Discernability penalty')\n",
    "plt.title('Normal, mu=3.5, k=10')\n",
    "plt.legend()\n",
    "plt.grid()\n",
    "plt.show()\n",
    "\n",
    "print(discernabilitiesNR2,'\\n',discernabilitiesNS2)"
   ]
  },
  {
   "cell_type": "code",
   "execution_count": 297,
   "metadata": {
    "colab": {
     "base_uri": "https://localhost:8080/",
     "height": 419
    },
    "id": "yONwBpP1tjJw",
    "outputId": "aef2529f-4460-4ed2-fde3-e4fb4860ce90"
   },
   "outputs": [
    {
     "name": "stderr",
     "output_type": "stream",
     "text": [
      "100%|██████████| 7/7 [00:03<00:00,  1.94it/s]\n"
     ]
    },
    {
     "name": "stdout",
     "output_type": "stream",
     "text": [
      "\n"
     ]
    },
    {
     "data": {
      "image/png": "[encoded data removed]",
      "text/plain": [
       "<Figure size 360x360 with 1 Axes>"
      ]
     },
     "metadata": {
      "needs_background": "light"
     },
     "output_type": "display_data"
    },
    {
     "name": "stdout",
     "output_type": "stream",
     "text": [
      "[195440.0, 195440.0, 195440.0, 195440.0, 195440.0, 195440.0, 195440.0] \n",
      " [149626.0, 150170.0, 153102.0, 148624.0, 144726.0, 144706.0, 144086.0]\n"
     ]
    }
   ],
   "source": [
    "# normal distribution (k = 10, std = 0.2, d between 2 and 8)\n",
    "k = 10\n",
    "discernabilitiesNR3 = []\n",
    "discernabilitiesNS3 = []\n",
    "cat = {} # no categorical variables\n",
    "\n",
    "for n in tqdm(normal_d):\n",
    "  equivalence_classesR = partitioning(n, np.arange(n.shape[1]), k, cat, 'relaxed')\n",
    "  discernabilitiesNR3.append(discernability(equivalence_classesR))\n",
    "  equivalence_classesS = partitioning(n, np.arange(n.shape[1]), k, cat, 'strict')\n",
    "  discernabilitiesNS3.append(discernability(equivalence_classesS))\n",
    "print('')\n",
    "\n",
    "fig = plt.figure(figsize=(5,5))\n",
    "plt.plot(np.arange(len(dimensions)), discernabilitiesNR3, label='Relaxed')\n",
    "plt.plot(np.arange(len(dimensions)), discernabilitiesNS3, label='Strict')\n",
    "plt.yscale(\"log\")\n",
    "plt.xticks(np.arange(len(dimensions)), labels=dimensions)\n",
    "plt.yticks([1e5,1e6,1e7])\n",
    "plt.xlabel('# Attributes')\n",
    "plt.ylabel('Discernability penalty')\n",
    "plt.title('Normal, std=0.2, k=10')\n",
    "plt.legend()\n",
    "plt.grid()\n",
    "plt.show()\n",
    "\n",
    "print(discernabilitiesNR3,'\\n',discernabilitiesNS3)"
   ]
  },
  {
   "cell_type": "code",
   "execution_count": 286,
   "metadata": {
    "id": "GmZR1EBXwGOz"
   },
   "outputs": [],
   "source": []
  }
 ],
 "metadata": {
  "colab": {
   "collapsed_sections": [],
   "name": "Mondrian K-Anonymization.ipynb",
   "provenance": []
  },
  "kernelspec": {
   "display_name": "Python 3",
   "language": "python",
   "name": "python3"
  },
  "language_info": {
   "codemirror_mode": {
    "name": "ipython",
    "version": 3
   },
   "file_extension": ".py",
   "mimetype": "text/x-python",
   "name": "python",
   "nbconvert_exporter": "python",
   "pygments_lexer": "ipython3",
   "version": "3.8.8"
  }
 },
 "nbformat": 4,
 "nbformat_minor": 1
}
